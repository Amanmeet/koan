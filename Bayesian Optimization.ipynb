{
 "cells": [
  {
   "cell_type": "markdown",
   "metadata": {
    "collapsed": true
   },
   "source": [
    "##Illustrating Basic Bayesian Optimization"
   ]
  },
  {
   "cell_type": "markdown",
   "metadata": {},
   "source": [
    "There are multiple open source packages for bayesian optimization, the two most prominent being MOE (Metric Optimization Engine, produced by Yelp) and Spearmint (from the Harvard research group HIPS). In this notebook I decided to use MOE because I found it to be better documented and easier to use."
   ]
  },
  {
   "cell_type": "markdown",
   "metadata": {},
   "source": [
    "MOE: https://github.com/Yelp/MOE\n",
    "\n",
    "Spearmint: https://github.com/HIPS/Spearmint"
   ]
  },
  {
   "cell_type": "code",
   "execution_count": 1,
   "metadata": {
    "collapsed": false
   },
   "outputs": [],
   "source": [
    "from moe.easy_interface.experiment import Experiment\n",
    "from moe.easy_interface.simple_endpoint import gp_next_points\n",
    "from moe.optimal_learning.python.data_containers import SamplePoint\n",
    "import random\n",
    "import numpy as np"
   ]
  },
  {
   "cell_type": "markdown",
   "metadata": {},
   "source": [
    "First we have to import the relevant functions. It is important to note that moe has a python interface, but must be installed and running in docker."
   ]
  },
  {
   "cell_type": "markdown",
   "metadata": {},
   "source": [
    "Now let's define an objective function which we're aiming to optimize. To MOE, this function is a black-box. In a machine learning context, this is a measure of the goodness of your models fit to the data and might be something like the root mean square error. As a side note, MOE by default will try to minimize the objective; if you have a metric you are trying to maximize (say R-squared), you simply make your objective function the negative of this metric."
   ]
  },
  {
   "cell_type": "code",
   "execution_count": 2,
   "metadata": {
    "collapsed": false
   },
   "outputs": [],
   "source": [
    "def objective(X):\n",
    "    '''\n",
    "    some black-box objective function we are trying to optimize with random noise\n",
    "    '''\n",
    "    return X[0]**2 + X[1]**2 + np.sin(X[2]) + random.uniform(-2, 2)"
   ]
  },
  {
   "cell_type": "markdown",
   "metadata": {},
   "source": [
    "Next we initialize an 'Experiment' by giving MOE the ranges of its relevant parameters (in practice this might be the hyperparameters of our model)."
   ]
  },
  {
   "cell_type": "code",
   "execution_count": 39,
   "metadata": {
    "collapsed": false
   },
   "outputs": [],
   "source": [
    "exp = Experiment([[-5,5], [-5,5], [-5,5]])"
   ]
  },
  {
   "cell_type": "markdown",
   "metadata": {},
   "source": [
    "We can now retrieve our first point to sample.  Since we have no data to sample, this is just a random point."
   ]
  },
  {
   "cell_type": "code",
   "execution_count": 4,
   "metadata": {
    "collapsed": false
   },
   "outputs": [
    {
     "data": {
      "text/plain": [
       "[-2.19831762162, -3.45358026823, 4.74534360143]"
      ]
     },
     "execution_count": 4,
     "metadata": {},
     "output_type": "execute_result"
    }
   ],
   "source": [
    "next_point_to_sample = gp_next_points(exp)[0]\n",
    "next_point_to_sample"
   ]
  },
  {
   "cell_type": "markdown",
   "metadata": {},
   "source": [
    "So let's determine the value of this next point to sample (train our model using the given hyperparameters and retrieve our goodness-of-fit measure)"
   ]
  },
  {
   "cell_type": "code",
   "execution_count": 5,
   "metadata": {
    "collapsed": false
   },
   "outputs": [
    {
     "data": {
      "text/plain": [
       "16.62807030393417"
      ]
     },
     "execution_count": 5,
     "metadata": {},
     "output_type": "execute_result"
    }
   ],
   "source": [
    "value_of_next_point = objective(next_point_to_sample)\n",
    "value_of_next_point"
   ]
  },
  {
   "cell_type": "markdown",
   "metadata": {},
   "source": [
    "However this value won't necessarily be perfectly deterministic. Let's sample the objective function five times, taking the mean and the variance (you can think of this as a stand in for five-fold cross validation) ..."
   ]
  },
  {
   "cell_type": "code",
   "execution_count": 6,
   "metadata": {
    "collapsed": false
   },
   "outputs": [
    {
     "name": "stdout",
     "output_type": "stream",
     "text": [
      "[16.105352252986592, 16.551065529575066, 14.394371147077806, 15.051770228649115, 16.204772293854731] \n",
      "\n",
      "15.6614662904 \t0.652172471491\n"
     ]
    }
   ],
   "source": [
    "objective_values = [objective(next_point_to_sample) for i in range(5)]\n",
    "mean_next_point = np.mean(objective_values)\n",
    "var_next_point = np.var(objective_values)\n",
    "print objective_values, '\\n'\n",
    "print mean_next_point, '\\t', var_next_point"
   ]
  },
  {
   "cell_type": "markdown",
   "metadata": {},
   "source": [
    "... and return this value to MOE."
   ]
  },
  {
   "cell_type": "code",
   "execution_count": 7,
   "metadata": {
    "collapsed": false
   },
   "outputs": [],
   "source": [
    "exp.historical_data.append_sample_points([SamplePoint(next_point_to_sample, \n",
    "                                                      mean_next_point,\n",
    "                                                      var_next_point)])"
   ]
  },
  {
   "cell_type": "markdown",
   "metadata": {},
   "source": [
    "MOE has now updated its model of the response curve to account for the new information and will provide an updated point of maximum expected improvement.  Also note that if you want to implement bayesian optimization on a process for which you already have historical data, these points can be used to update your model in the same way.\n",
    "\n",
    "Now we can retrieve our next sample point and repeat."
   ]
  },
  {
   "cell_type": "code",
   "execution_count": 8,
   "metadata": {
    "collapsed": false
   },
   "outputs": [
    {
     "data": {
      "text/plain": [
       "[3.53687940437, 2.24664798986, -0.941334120568]"
      ]
     },
     "execution_count": 8,
     "metadata": {},
     "output_type": "execute_result"
    }
   ],
   "source": [
    "next_point_to_sample = gp_next_points(exp)[0]\n",
    "next_point_to_sample"
   ]
  },
  {
   "cell_type": "markdown",
   "metadata": {},
   "source": [
    "###Visualizing a 1D Example"
   ]
  },
  {
   "cell_type": "code",
   "execution_count": 9,
   "metadata": {
    "collapsed": true
   },
   "outputs": [],
   "source": [
    "import matplotlib.pyplot as plt\n",
    "%matplotlib inline\n",
    "from IPython import display\n",
    "import time"
   ]
  },
  {
   "cell_type": "markdown",
   "metadata": {},
   "source": [
    "We'll define some some functions to help plot and run MOE, as well as our 1-D input objective function with noise."
   ]
  },
  {
   "cell_type": "code",
   "execution_count": 10,
   "metadata": {
    "collapsed": false
   },
   "outputs": [],
   "source": [
    "def plot(x,y):\n",
    "    plt.plot([i for i in range(-6,7)], [i**2 for i in range(-6,7)])\n",
    "    plt.plot(x,y,'.',markersize=10)\n",
    "    plt.axis([-6,6,-3,28])\n",
    "    plt.xlabel('Hyperparameter')\n",
    "    plt.ylabel('Objective Function')\n",
    "    plt.grid(b=True, which='both', color='0.65',linestyle='-')"
   ]
  },
  {
   "cell_type": "code",
   "execution_count": 11,
   "metadata": {
    "collapsed": true
   },
   "outputs": [],
   "source": [
    "def objective(X):\n",
    "    return X[0]**2 + random.uniform(-2, 2)"
   ]
  },
  {
   "cell_type": "code",
   "execution_count": 12,
   "metadata": {
    "collapsed": true
   },
   "outputs": [],
   "source": [
    "def sample_and_update(x, y, exp):\n",
    "    next_point_to_sample = gp_next_points(exp)[0]\n",
    "    objective_values = [objective(next_point_to_sample) for i in range(5)]\n",
    "    mean_next_point = np.mean(objective_values)\n",
    "    var_next_point = np.var(objective_values)\n",
    "    x.append(next_point_to_sample)\n",
    "    y.append(mean_next_point)\n",
    "    exp.historical_data.append_sample_points([SamplePoint(next_point_to_sample, \n",
    "                                                      mean_next_point,\n",
    "                                                      var_next_point)])\n",
    "    return x, y, exp"
   ]
  },
  {
   "cell_type": "markdown",
   "metadata": {},
   "source": [
    "Initialize our experiment and x and y values"
   ]
  },
  {
   "cell_type": "code",
   "execution_count": 13,
   "metadata": {
    "collapsed": true
   },
   "outputs": [],
   "source": [
    "exp = Experiment([[-5,5]])\n",
    "x = []\n",
    "y = []"
   ]
  },
  {
   "cell_type": "markdown",
   "metadata": {},
   "source": [
    "And visualize how MOE samples the space and the results it finds (the underlying function has also been plotted in blue, but MOE has no knowledge of this function)"
   ]
  },
  {
   "cell_type": "code",
   "execution_count": 15,
   "metadata": {
    "collapsed": false
   },
   "outputs": [
    {
     "data": {
      "image/png": "[encoded data removed]",
      "text/plain": [
       "<matplotlib.figure.Figure at 0x7f30d4e3bd90>"
      ]
     },
     "metadata": {},
     "output_type": "display_data"
    }
   ],
   "source": [
    "exp = Experiment([[-5,5]])\n",
    "x = []\n",
    "y = []\n",
    "for i in range(20):\n",
    "    x,y,exp = sample_and_update(x,y,exp)\n",
    "    plot(x,y)\n",
    "    display.clear_output(wait=True)\n",
    "    display.display(plt.gcf())\n",
    "    time.sleep(1.0)\n",
    "    plt.close()"
   ]
  },
  {
   "cell_type": "markdown",
   "metadata": {},
   "source": [
    "You can see the tradeoff between exploration and exploitation being made as MOE finds the underlying minimum.\n",
    "\n",
    "Note that the initial point search is random (plus we have random noise) so you will get a slightly different exploration of the space every time this is run"
   ]
  },
  {
   "cell_type": "markdown",
   "metadata": {},
   "source": [
    "Now let's look at how it explores a different underlying objective with multiple potential minima:"
   ]
  },
  {
   "cell_type": "code",
   "execution_count": 34,
   "metadata": {
    "collapsed": false
   },
   "outputs": [
    {
     "data": {
      "image/png": "[encoded data removed]",
      "text/plain": [
       "<matplotlib.figure.Figure at 0x7f30d414f790>"
      ]
     },
     "metadata": {},
     "output_type": "display_data"
    }
   ],
   "source": [
    "def plot(x,y):\n",
    "    plt.plot([i/10. for i in range(-80,80)], [i/10.*np.sin(i/10.)+5  for i in range(-80,80)])\n",
    "    plt.plot(x,y,'.',markersize=10)\n",
    "    plt.axis([-8,8,-2,14])\n",
    "    plt.xlabel('Hyperparameter')\n",
    "    plt.ylabel('Objective Function')\n",
    "    plt.grid(b=True, which='both', color='0.65',linestyle='-')\n",
    "def objective(X):\n",
    "    return X[0]*np.sin(X[0]) + 5 + random.uniform(-1, 1)\n",
    "exp = Experiment([[-7,7]])\n",
    "x = []\n",
    "y = []\n",
    "for i in range(20):\n",
    "    x,y,exp = sample_and_update(x,y,exp)\n",
    "    plot(x,y)\n",
    "    display.clear_output(wait=True)\n",
    "    display.display(plt.gcf())\n",
    "    time.sleep(1.0)\n",
    "    plt.close()"
   ]
  },
  {
   "cell_type": "markdown",
   "metadata": {
    "collapsed": false
   },
   "source": [
    "You can see how it performs a rough search of the space before it zooms in on the areas of highest probability"
   ]
  }
 ],
 "metadata": {
  "kernelspec": {
   "display_name": "Python 2",
   "language": "python",
   "name": "python2"
  },
  "language_info": {
   "codemirror_mode": {
    "name": "ipython",
    "version": 2
   },
   "file_extension": ".py",
   "mimetype": "text/x-python",
   "name": "python",
   "nbconvert_exporter": "python",
   "pygments_lexer": "ipython2",
   "version": "2.7.9"
  }
 },
 "nbformat": 4,
 "nbformat_minor": 0
}
