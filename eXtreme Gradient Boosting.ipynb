{
 "cells": [
  {
   "cell_type": "markdown",
   "metadata": {},
   "source": [
    "# Predicting Forest Cover Types from Cartographic Variables"
   ]
  },
  {
   "cell_type": "markdown",
   "metadata": {},
   "source": [
    "[Covertype](https://archive.ics.uci.edu/ml/datasets/Covertype) (aka \"forest cover\") is a classic dataset used for multi-class, non-linear algorithm benchmarking.  The data consists of 54 variables and 581,012 observations.  There are 7 classes (some of which are minority classes).  \n",
    "\n",
    "This [1999](http://gis.fs.fed.us/rm/ogden/research/publications/downloads/journals/1999_compag_blackard.pdf) paper  applies ANNs to achieve 80% accuracy (while burning through 45 hours of compute for each run).  More recently Wise.io [benchmarked](http://www.wise.io/blog/benchmarking-random-forest-part-1) their Random Forest implementation and achieved 97.4% accuracy with a 50-tree forest. "
   ]
  },
  {
   "cell_type": "code",
   "execution_count": 15,
   "metadata": {
    "collapsed": true
   },
   "outputs": [],
   "source": [
    "using DataFrames, XGBoost, Resampling"
   ]
  },
  {
   "cell_type": "code",
   "execution_count": 16,
   "metadata": {
    "collapsed": true
   },
   "outputs": [],
   "source": [
    "import DecisionTree.confusion_matrix"
   ]
  },
  {
   "cell_type": "code",
   "execution_count": 19,
   "metadata": {
    "collapsed": false
   },
   "outputs": [],
   "source": [
    "df = readtable(\"/users/arshakn/Dropbox/data/covtype.txt\");"
   ]
  },
  {
   "cell_type": "code",
   "execution_count": 20,
   "metadata": {
    "collapsed": false
   },
   "outputs": [],
   "source": [
    "# shift classes labels to start from zero\n",
    "for i in 1:nrow(df)\n",
    "    df[i,:cover_type] -= 1\n",
    "end"
   ]
  },
  {
   "cell_type": "code",
   "execution_count": 21,
   "metadata": {
    "collapsed": false
   },
   "outputs": [],
   "source": [
    "# randomly split the data 80/20 for train and test\n",
    "train, test = splitrandom(df,0.8);"
   ]
  },
  {
   "cell_type": "code",
   "execution_count": 22,
   "metadata": {
    "collapsed": false
   },
   "outputs": [
    {
     "data": {
      "text/plain": [
       "DMatrix(Ptr{Void} @0x00007ff03f18c930,_setinfo)"
      ]
     },
     "execution_count": 22,
     "metadata": {},
     "output_type": "execute_result"
    }
   ],
   "source": [
    "dtrain = DMatrix(array(train[1:end-1]), label = array(train[:cover_type]))\n",
    "dtest = DMatrix(array(test[1:end-1]), label = array(test[:cover_type]))"
   ]
  },
  {
   "cell_type": "code",
   "execution_count": 30,
   "metadata": {
    "collapsed": false
   },
   "outputs": [
    {
     "data": {
      "text/plain": [
       "2-element Array{(DMatrix,ASCIIString),1}:\n",
       " (DMatrix(Ptr{Void} @0x00007ff03f18c930,_setinfo),\"eval\") \n",
       " (DMatrix(Ptr{Void} @0x00007ff03f157d60,_setinfo),\"train\")"
      ]
     },
     "execution_count": 30,
     "metadata": {},
     "output_type": "execute_result"
    }
   ],
   "source": [
    "watchlist = [(dtest,\"eval\"), (dtrain,\"train\")]"
   ]
  },
  {
   "cell_type": "code",
   "execution_count": 37,
   "metadata": {
    "collapsed": false
   },
   "outputs": [
    {
     "name": "stderr",
     "output_type": "stream",
     "text": [
      "[1]\teval-merror:0.143982\ttrain-merror:0.098154\n",
      "[2]\teval-merror:0.130161\ttrain-merror:0.079047\n",
      "[3]\teval-merror:0.096169\ttrain-merror:0.045038\n",
      "[4]\teval-merror:0.079740\ttrain-merror:0.027575\n",
      "[5]\teval-merror:0.071625\ttrain-merror:0.018935\n"
     ]
    },
    {
     "data": {
      "text/plain": [
       "Booster(Ptr{Void} @0x00007ff001e9cfb0)"
      ]
     },
     "execution_count": 37,
     "metadata": {},
     "output_type": "execute_result"
    }
   ],
   "source": [
    "num_round = 5\n",
    "bst = xgboost(dtrain, num_round, eta=0.5, max_depth=20, colsample_bytree=0.5, watchlist=watchlist, num_class=7, objective=\"multi:softmax\")"
   ]
  },
  {
   "cell_type": "code",
   "execution_count": 38,
   "metadata": {
    "collapsed": false
   },
   "outputs": [],
   "source": [
    "labels = get_info(dtest, \"label\")\n",
    "preds = predict(bst, dtest);"
   ]
  },
  {
   "cell_type": "code",
   "execution_count": 39,
   "metadata": {
    "collapsed": false
   },
   "outputs": [
    {
     "data": {
      "text/plain": [
       "7x7 Array{Int64,2}:\n",
       " 38872   3497     0    0    16     4    64\n",
       "  2009  54283   168    1    69    81    12\n",
       "     2    243  6592   32     7   181     0\n",
       "     0      2    78  465     0    26     0\n",
       "    26    688    15    0  1129     2     1\n",
       "    10    252   456   14     4  2778     0\n",
       "   328     34     0    0     1     0  3760"
      ]
     },
     "metadata": {},
     "output_type": "display_data"
    },
    {
     "data": {
      "text/plain": [
       "Classes:  [0,1,2,3,4,5,6]\n",
       "Matrix:   \n",
       "Accuracy: 0.9283747267689024\n",
       "Kappa:    0.8839009035267643"
      ]
     },
     "execution_count": 39,
     "metadata": {},
     "output_type": "execute_result"
    }
   ],
   "source": [
    "cm = confusion_matrix(int(labels),int(preds))"
   ]
  },
  {
   "cell_type": "code",
   "execution_count": 40,
   "metadata": {
    "collapsed": false
   },
   "outputs": [],
   "source": [
    "dump_model (bst,\"boost-5colsample5.raw.txt\")"
   ]
  },
  {
   "cell_type": "markdown",
   "metadata": {},
   "source": [
    "## Accuracy\n",
    "After 500 rounds of boosting we get a slightly better 2.50 error compared with benchmark's 2.6\n",
    "\n",
    "## Prediction Time"
   ]
  },
  {
   "cell_type": "code",
   "execution_count": 35,
   "metadata": {
    "collapsed": false
   },
   "outputs": [
    {
     "name": "stdout",
     "output_type": "stream",
     "text": [
      "elapsed time: 0.48896137 seconds (206807720 bytes allocated, 17.70% gc time)\n"
     ]
    },
    {
     "data": {
      "text/plain": [
       "116202-element Array{Float32,1}:\n",
       " 0.0\n",
       " 1.0\n",
       " 0.0\n",
       " 1.0\n",
       " 1.0\n",
       " 1.0\n",
       " 1.0\n",
       " 1.0\n",
       " 1.0\n",
       " 1.0\n",
       " 1.0\n",
       " 0.0\n",
       " 1.0\n",
       " ⋮  \n",
       " 1.0\n",
       " 1.0\n",
       " 1.0\n",
       " 1.0\n",
       " 0.0\n",
       " 1.0\n",
       " 1.0\n",
       " 1.0\n",
       " 1.0\n",
       " 1.0\n",
       " 1.0\n",
       " 4.0"
      ]
     },
     "execution_count": 35,
     "metadata": {},
     "output_type": "execute_result"
    }
   ],
   "source": [
    "@time predict(bst, array(test[1:end-1]))"
   ]
  },
  {
   "cell_type": "code",
   "execution_count": 36,
   "metadata": {
    "collapsed": false
   },
   "outputs": [
    {
     "name": "stdout",
     "output_type": "stream",
     "text": [
      "elapsed time: 0.000553814 seconds (45512 bytes allocated)\n"
     ]
    },
    {
     "data": {
      "text/plain": [
       "1-element Array{Float32,1}:\n",
       " 0.0"
      ]
     },
     "execution_count": 36,
     "metadata": {},
     "output_type": "execute_result"
    }
   ],
   "source": [
    "@time predict(bst, array(test[1;1:end-1]))"
   ]
  },
  {
   "cell_type": "code",
   "execution_count": null,
   "metadata": {
    "collapsed": true
   },
   "outputs": [],
   "source": []
  }
 ],
 "metadata": {
  "kernelspec": {
   "display_name": "Julia 0.3.6",
   "language": "julia",
   "name": "julia-0.3"
  },
  "language_info": {
   "name": "julia",
   "version": "0.3.6"
  }
 },
 "nbformat": 4,
 "nbformat_minor": 0
}
