{
 "cells": [
  {
   "cell_type": "markdown",
   "metadata": {},
   "source": [
    "# Predicting Forest Cover Types from Cartographic Variables"
   ]
  },
  {
   "cell_type": "markdown",
   "metadata": {},
   "source": [
    "[Covertype](https://archive.ics.uci.edu/ml/datasets/Covertype) (aka \"forest cover\") is a classic dataset used for multi-class, non-linear algorithm benchmarking.  The data consists of 54 variables and 581,012 observations.  There are 7 classes (some of which are minority classes).  \n",
    "\n",
    "This [1999](http://gis.fs.fed.us/rm/ogden/research/publications/downloads/journals/1999_compag_blackard.pdf) paper  applies ANNs to achieve 80% accuracy (while burning through 45 hours of compute for each run).  More recently Wise.io [benchmarked](http://www.wise.io/blog/benchmarking-random-forest-part-1) their Random Forest implementation and achieved 97.4% accuracy with a 50-tree forest. "
   ]
  },
  {
   "cell_type": "code",
   "execution_count": 2,
   "metadata": {
    "collapsed": true
   },
   "outputs": [],
   "source": [
    "using DataFrames, XGBoost, Resampling"
   ]
  },
  {
   "cell_type": "code",
   "execution_count": 3,
   "metadata": {
    "collapsed": true
   },
   "outputs": [],
   "source": [
    "import DecisionTree.confusion_matrix"
   ]
  },
  {
   "cell_type": "code",
   "execution_count": 4,
   "metadata": {
    "collapsed": false
   },
   "outputs": [],
   "source": [
    "df = readtable(\"data/covtype.txt\");"
   ]
  },
  {
   "cell_type": "code",
   "execution_count": 5,
   "metadata": {
    "collapsed": false
   },
   "outputs": [],
   "source": [
    "# shift classes labels to start from zero\n",
    "for i in 1:nrow(df)\n",
    "    df[i,:cover_type] -= 1\n",
    "end"
   ]
  },
  {
   "cell_type": "code",
   "execution_count": 9,
   "metadata": {
    "collapsed": false
   },
   "outputs": [],
   "source": [
    "# randomly split the data 80/20 for train and test\n",
    "train, test = splitrandom(df,0.8);"
   ]
  },
  {
   "cell_type": "code",
   "execution_count": 10,
   "metadata": {
    "collapsed": false
   },
   "outputs": [
    {
     "data": {
      "text/plain": [
       "DMatrix(Ptr{Void} @0x00007f8b184a1fa0,_setinfo)"
      ]
     },
     "execution_count": 10,
     "metadata": {},
     "output_type": "execute_result"
    }
   ],
   "source": [
    "dtrain = DMatrix(array(train[1:end-1]), label = array(train[:cover_type]))\n",
    "dtest = DMatrix(array(test[1:end-1]), label = array(test[:cover_type]))"
   ]
  },
  {
   "cell_type": "code",
   "execution_count": 11,
   "metadata": {
    "collapsed": false
   },
   "outputs": [
    {
     "data": {
      "text/plain": [
       "2-element Array{(DMatrix,ASCIIString),1}:\n",
       " (DMatrix(Ptr{Void} @0x00007f8b184a1fa0,_setinfo),\"eval\") \n",
       " (DMatrix(Ptr{Void} @0x00007f8b18449060,_setinfo),\"train\")"
      ]
     },
     "execution_count": 11,
     "metadata": {},
     "output_type": "execute_result"
    }
   ],
   "source": [
    "watchlist = [(dtest,\"eval\"), (dtrain,\"train\")]"
   ]
  },
  {
   "cell_type": "code",
   "execution_count": 79,
   "metadata": {
    "collapsed": false
   },
   "outputs": [
    {
     "name": "stderr",
     "output_type": "stream",
     "text": [
      "[1]\teval-merror:0.075790\ttrain-merror:0.047157\n",
      "[2]\teval-merror:0.065119\ttrain-merror:0.036305\n",
      "[3]\teval-merror:0.060825\ttrain-merror:0.031850\n",
      "[4]\teval-merror:0.058553\ttrain-merror:0.029119\n",
      "[5]\teval-merror:0.056574\ttrain-merror:0.026628\n",
      "[6]\teval-merror:0.054922\ttrain-merror:0.024345\n",
      "[7]\teval-merror:0.053467\ttrain-merror:0.022349\n",
      "[8]\teval-merror:0.052013\ttrain-merror:0.020664\n",
      "[9]\teval-merror:0.050472\ttrain-merror:0.019199\n",
      "[10]\teval-merror:0.049078\ttrain-merror:0.017745\n",
      "[11]\teval-merror:0.047917\ttrain-merror:0.016273\n",
      "[12]\teval-merror:0.046841\ttrain-merror:0.014993\n",
      "[13]\teval-merror:0.045782\ttrain-merror:0.013801\n",
      "[14]\teval-merror:0.044991\ttrain-merror:0.012758\n",
      "[15]\teval-merror:0.043863\ttrain-merror:0.011811\n",
      "[16]\teval-merror:0.042512\ttrain-merror:0.010766\n",
      "[17]\teval-merror:0.041807\ttrain-merror:0.010008\n",
      "[18]\teval-merror:0.041006\ttrain-merror:0.009286\n",
      "[19]\teval-merror:0.040541\ttrain-merror:0.008606\n",
      "[20]\teval-merror:0.040042\ttrain-merror:0.007840\n",
      "[21]\teval-merror:0.039242\ttrain-merror:0.007255\n",
      "[22]\teval-merror:0.038562\ttrain-merror:0.006753\n",
      "[23]\teval-merror:0.037943\ttrain-merror:0.006224\n",
      "[24]\teval-merror:0.037529\ttrain-merror:0.005787\n",
      "[25]\teval-merror:0.037013\ttrain-merror:0.005396\n",
      "[26]\teval-merror:0.036497\ttrain-merror:0.004987\n",
      "[27]\teval-merror:0.036144\ttrain-merror:0.004617\n",
      "[28]\teval-merror:0.035731\ttrain-merror:0.004352\n",
      "[29]\teval-merror:0.035283\ttrain-merror:0.004036\n",
      "[30]\teval-merror:0.035034\ttrain-merror:0.003724\n",
      "[31]\teval-merror:0.034750\ttrain-merror:0.003496\n",
      "[32]\teval-merror:0.034337\ttrain-merror:0.003266\n",
      "[33]\teval-merror:0.034053\ttrain-merror:0.003064\n",
      "[34]\teval-merror:0.033906\ttrain-merror:0.002793\n",
      "[35]\teval-merror:0.033588\ttrain-merror:0.002633\n",
      "[36]\teval-merror:0.033304\ttrain-merror:0.002455\n",
      "[37]\teval-merror:0.033029\ttrain-merror:0.002354\n",
      "[38]\teval-merror:0.032796\ttrain-merror:0.002225\n",
      "[39]\teval-merror:0.032530\ttrain-merror:0.002130\n",
      "[40]\teval-merror:0.032409\ttrain-merror:0.002005\n",
      "[41]\teval-merror:0.032160\ttrain-merror:0.001928\n",
      "[42]\teval-merror:0.032116\ttrain-merror:0.001824\n",
      "[43]\teval-merror:0.032056\ttrain-merror:0.001715\n",
      "[44]\teval-merror:0.031781\ttrain-merror:0.001626\n",
      "[45]\teval-merror:0.031626\ttrain-merror:0.001534\n",
      "[46]\teval-merror:0.031445\ttrain-merror:0.001441\n",
      "[47]\teval-merror:0.031376\ttrain-merror:0.001390\n",
      "[48]\teval-merror:0.031204\ttrain-merror:0.001325\n",
      "[49]\teval-merror:0.031101\ttrain-merror:0.001239\n",
      "[50]\teval-merror:0.030912\ttrain-merror:0.001183\n",
      "[51]\teval-merror:0.030826\ttrain-merror:0.001140\n",
      "[52]\teval-merror:0.030860\ttrain-merror:0.001114\n",
      "[53]\teval-merror:0.030877\ttrain-merror:0.001089\n",
      "[54]\teval-merror:0.030826\ttrain-merror:0.001074\n",
      "[55]\teval-merror:0.030740\ttrain-merror:0.001046\n",
      "[56]\teval-merror:0.030636\ttrain-merror:0.001024\n",
      "[57]\teval-merror:0.030524\ttrain-merror:0.000970\n",
      "[58]\teval-merror:0.030413\ttrain-merror:0.000940\n",
      "[59]\teval-merror:0.030309\ttrain-merror:0.000912\n",
      "[60]\teval-merror:0.030292\ttrain-merror:0.000895\n",
      "[61]\teval-merror:0.030283\ttrain-merror:0.000871\n",
      "[62]\teval-merror:0.030172\ttrain-merror:0.000848\n",
      "[63]\teval-merror:0.030086\ttrain-merror:0.000809\n",
      "[64]\teval-merror:0.030086\ttrain-merror:0.000785\n",
      "[65]\teval-merror:0.030025\ttrain-merror:0.000738\n",
      "[66]\teval-merror:0.029982\ttrain-merror:0.000719\n",
      "[67]\teval-merror:0.029905\ttrain-merror:0.000716\n",
      "[68]\teval-merror:0.029836\ttrain-merror:0.000695\n",
      "[69]\teval-merror:0.029741\ttrain-merror:0.000682\n",
      "[70]\teval-merror:0.029698\ttrain-merror:0.000667\n",
      "[71]\teval-merror:0.029655\ttrain-merror:0.000660\n",
      "[72]\teval-merror:0.029621\ttrain-merror:0.000643\n",
      "[73]\teval-merror:0.029586\ttrain-merror:0.000622\n",
      "[74]\teval-merror:0.029483\ttrain-merror:0.000609\n",
      "[75]\teval-merror:0.029345\ttrain-merror:0.000579\n",
      "[76]\teval-merror:0.029302\ttrain-merror:0.000572\n",
      "[77]\teval-merror:0.029337\ttrain-merror:0.000557\n",
      "[78]\teval-merror:0.029328\ttrain-merror:0.000553\n",
      "[79]\teval-merror:0.029311\ttrain-merror:0.000553\n",
      "[80]\teval-merror:0.029337\ttrain-merror:0.000549\n",
      "[81]\teval-merror:0.029259\ttrain-merror:0.000510\n",
      "[82]\teval-merror:0.029173\ttrain-merror:0.000508\n",
      "[83]\teval-merror:0.029182\ttrain-merror:0.000486\n",
      "[84]\teval-merror:0.029173\ttrain-merror:0.000475\n",
      "[85]\teval-merror:0.029139\ttrain-merror:0.000450\n",
      "[86]\teval-merror:0.029061\ttrain-merror:0.000445\n",
      "[87]\teval-merror:0.029044\ttrain-merror:0.000443\n",
      "[88]\teval-merror:0.028975\ttrain-merror:0.000432\n",
      "[89]\teval-merror:0.028941\ttrain-merror:0.000422\n",
      "[90]\teval-merror:0.028872\ttrain-merror:0.000396\n",
      "[91]\teval-merror:0.028838\ttrain-merror:0.000383\n",
      "[92]\teval-merror:0.028760\ttrain-merror:0.000379\n",
      "[93]\teval-merror:0.028683\ttrain-merror:0.000370\n",
      "[94]\teval-merror:0.028734\ttrain-merror:0.000368\n",
      "[95]\teval-merror:0.028717\ttrain-merror:0.000368\n",
      "[96]\teval-merror:0.028648\ttrain-merror:0.000364\n",
      "[97]\teval-merror:0.028614\ttrain-merror:0.000361\n",
      "[98]\teval-merror:0.028614\ttrain-merror:0.000346\n",
      "[99]\teval-merror:0.028588\ttrain-merror:0.000333\n",
      "[100]\teval-merror:0.028511\ttrain-merror:0.000327\n",
      "[101]\teval-merror:0.028537\ttrain-merror:0.000325\n",
      "[102]\teval-merror:0.028433\ttrain-merror:0.000318\n",
      "[103]\teval-merror:0.028433\ttrain-merror:0.000316\n",
      "[104]\teval-merror:0.028450\ttrain-merror:0.000312\n",
      "[105]\teval-merror:0.028407\ttrain-merror:0.000306\n",
      "[106]\teval-merror:0.028373\ttrain-merror:0.000303\n",
      "[107]\teval-merror:0.028373\ttrain-merror:0.000303\n",
      "[108]\teval-merror:0.028304\ttrain-merror:0.000297\n",
      "[109]\teval-merror:0.028313\ttrain-merror:0.000295\n",
      "[110]\teval-merror:0.028304\ttrain-merror:0.000269\n",
      "[111]\teval-merror:0.028253\ttrain-merror:0.000265\n",
      "[112]\teval-merror:0.028278\ttrain-merror:0.000254\n",
      "[113]\teval-merror:0.028244\ttrain-merror:0.000237\n",
      "[114]\teval-merror:0.028209\ttrain-merror:0.000232\n",
      "[115]\teval-merror:0.028098\ttrain-merror:0.000226\n",
      "[116]\teval-merror:0.028098\ttrain-merror:0.000219\n",
      "[117]\teval-merror:0.028072\ttrain-merror:0.000219\n",
      "[118]\teval-merror:0.028115\ttrain-merror:0.000219\n",
      "[119]\teval-merror:0.028158\ttrain-merror:0.000202\n",
      "[120]\teval-merror:0.028020\ttrain-merror:0.000191\n",
      "[121]\teval-merror:0.027969\ttrain-merror:0.000189\n",
      "[122]\teval-merror:0.027882\ttrain-merror:0.000183\n",
      "[123]\teval-merror:0.027874\ttrain-merror:0.000181\n",
      "[124]\teval-merror:0.027857\ttrain-merror:0.000172\n",
      "[125]\teval-merror:0.027805\ttrain-merror:0.000155\n",
      "[126]\teval-merror:0.027693\ttrain-merror:0.000148\n",
      "[127]\teval-merror:0.027564\ttrain-merror:0.000133\n",
      "[128]\teval-merror:0.027564\ttrain-merror:0.000118\n",
      "[129]\teval-merror:0.027521\ttrain-merror:0.000118\n",
      "[130]\teval-merror:0.027547\ttrain-merror:0.000110\n",
      "[131]\teval-merror:0.027478\ttrain-merror:0.000103\n",
      "[132]\teval-merror:0.027452\ttrain-merror:0.000101\n",
      "[133]\teval-merror:0.027392\ttrain-merror:0.000095\n",
      "[134]\teval-merror:0.027340\ttrain-merror:0.000086\n",
      "[135]\teval-merror:0.027358\ttrain-merror:0.000075\n",
      "[136]\teval-merror:0.027297\ttrain-merror:0.000067\n",
      "[137]\teval-merror:0.027168\ttrain-merror:0.000060\n",
      "[138]\teval-merror:0.027142\ttrain-merror:0.000056\n",
      "[139]\teval-merror:0.027177\ttrain-merror:0.000047\n",
      "[140]\teval-merror:0.027074\ttrain-merror:0.000041\n",
      "[141]\teval-merror:0.026910\ttrain-merror:0.000039\n",
      "[142]\teval-merror:0.026927\ttrain-merror:0.000039\n",
      "[143]\teval-merror:0.026893\ttrain-merror:0.000034\n",
      "[144]\teval-merror:0.026781\ttrain-merror:0.000032\n",
      "[145]\teval-merror:0.026884\ttrain-merror:0.000030\n",
      "[146]\teval-merror:0.026841\ttrain-merror:0.000030\n",
      "[147]\teval-merror:0.026798\ttrain-merror:0.000022\n",
      "[148]\teval-merror:0.026790\ttrain-merror:0.000019\n",
      "[149]\teval-merror:0.026738\ttrain-merror:0.000017\n",
      "[150]\teval-merror:0.026686\ttrain-merror:0.000017\n",
      "[151]\teval-merror:0.026635\ttrain-merror:0.000017\n",
      "[152]\teval-merror:0.026592\ttrain-merror:0.000013\n",
      "[153]\teval-merror:0.026557\ttrain-merror:0.000013\n",
      "[154]\teval-merror:0.026540\ttrain-merror:0.000013\n",
      "[155]\teval-merror:0.026592\ttrain-merror:0.000009\n",
      "[156]\teval-merror:0.026549\ttrain-merror:0.000009\n",
      "[157]\teval-merror:0.026531\ttrain-merror:0.000004\n",
      "[158]\teval-merror:0.026497\ttrain-merror:0.000004\n",
      "[159]\teval-merror:0.026445\ttrain-merror:0.000004\n",
      "[160]\teval-merror:0.026428\ttrain-merror:0.000004\n",
      "[161]\teval-merror:0.026402\ttrain-merror:0.000004\n",
      "[162]\teval-merror:0.026239\ttrain-merror:0.000004\n",
      "[163]\teval-merror:0.026351\ttrain-merror:0.000002\n",
      "[164]\teval-merror:0.026265\ttrain-merror:0.000002\n",
      "[165]\teval-merror:0.026222\ttrain-merror:0.000002\n",
      "[166]\teval-merror:0.026213\ttrain-merror:0.000002\n",
      "[167]\teval-merror:0.026179\ttrain-merror:0.000002\n",
      "[168]\teval-merror:0.026144\ttrain-merror:0.000002\n",
      "[169]\teval-merror:0.026187\ttrain-merror:0.000002\n",
      "[170]\teval-merror:0.026239\ttrain-merror:0.000002\n",
      "[171]\teval-merror:0.026239\ttrain-merror:0.000002\n",
      "[172]\teval-merror:0.026299\ttrain-merror:0.000002\n",
      "[173]\teval-merror:0.026256\ttrain-merror:0.000002\n",
      "[174]\teval-merror:0.026299\ttrain-merror:0.000002\n",
      "[175]\teval-merror:0.026290\ttrain-merror:0.000002\n",
      "[176]\teval-merror:0.026230\ttrain-merror:0.000002\n",
      "[177]\teval-merror:0.026196\ttrain-merror:0.000002\n",
      "[178]\teval-merror:0.026196\ttrain-merror:0.000002\n",
      "[179]\teval-merror:0.026136\ttrain-merror:0.000002\n",
      "[180]\teval-merror:0.026161\ttrain-merror:0.000000\n",
      "[181]\teval-merror:0.026110\ttrain-merror:0.000000\n",
      "[182]\teval-merror:0.026101\ttrain-merror:0.000000\n",
      "[183]\teval-merror:0.026032\ttrain-merror:0.000000\n",
      "[184]\teval-merror:0.026015\ttrain-merror:0.000000\n",
      "[185]\teval-merror:0.026041\ttrain-merror:0.000000\n",
      "[186]\teval-merror:0.026049\ttrain-merror:0.000000\n",
      "[187]\teval-merror:0.026006\ttrain-merror:0.000000\n",
      "[188]\teval-merror:0.026136\ttrain-merror:0.000000\n",
      "[189]\teval-merror:0.026049\ttrain-merror:0.000000\n",
      "[190]\teval-merror:0.026067\ttrain-merror:0.000000\n",
      "[191]\teval-merror:0.026067\ttrain-merror:0.000000\n",
      "[192]\teval-merror:0.026058\ttrain-merror:0.000000\n",
      "[193]\teval-merror:0.026084\ttrain-merror:0.000000\n",
      "[194]\teval-merror:0.026118\ttrain-merror:0.000000\n",
      "[195]\teval-merror:0.026006\ttrain-merror:0.000000\n",
      "[196]\teval-merror:0.026049\ttrain-merror:0.000000\n",
      "[197]\teval-merror:0.026006\ttrain-merror:0.000000\n",
      "[198]\teval-merror:0.025998\ttrain-merror:0.000000\n",
      "[199]\teval-merror:0.025998\ttrain-merror:0.000000\n",
      "[200]\teval-merror:0.025920\ttrain-merror:0.000000\n",
      "[201]\teval-merror:0.025834\ttrain-merror:0.000000\n",
      "[202]\teval-merror:0.025852\ttrain-merror:0.000000\n",
      "[203]\teval-merror:0.025834\ttrain-merror:0.000000\n",
      "[204]\teval-merror:0.025817\ttrain-merror:0.000000\n",
      "[205]\teval-merror:0.025757\ttrain-merror:0.000000\n",
      "[206]\teval-merror:0.025783\ttrain-merror:0.000000\n",
      "[207]\teval-merror:0.025774\ttrain-merror:0.000000\n",
      "[208]\teval-merror:0.025783\ttrain-merror:0.000000\n",
      "[209]\teval-merror:0.025774\ttrain-merror:0.000000\n",
      "[210]\teval-merror:0.025817\ttrain-merror:0.000000\n",
      "[211]\teval-merror:0.025834\ttrain-merror:0.000000\n",
      "[212]\teval-merror:0.025869\ttrain-merror:0.000000\n",
      "[213]\teval-merror:0.025826\ttrain-merror:0.000000\n",
      "[214]\teval-merror:0.025757\ttrain-merror:0.000000\n",
      "[215]\teval-merror:0.025765\ttrain-merror:0.000000\n",
      "[216]\teval-merror:0.025783\ttrain-merror:0.000000\n",
      "[217]\teval-merror:0.025783\ttrain-merror:0.000000\n",
      "[218]\teval-merror:0.025740\ttrain-merror:0.000000\n",
      "[219]\teval-merror:0.025731\ttrain-merror:0.000000\n",
      "[220]\teval-merror:0.025740\ttrain-merror:0.000000\n",
      "[221]\teval-merror:0.025722\ttrain-merror:0.000000\n",
      "[222]\teval-merror:0.025722\ttrain-merror:0.000000\n",
      "[223]\teval-merror:0.025697\ttrain-merror:0.000000\n",
      "[224]\teval-merror:0.025731\ttrain-merror:0.000000\n",
      "[225]\teval-merror:0.025688\ttrain-merror:0.000000\n",
      "[226]\teval-merror:0.025705\ttrain-merror:0.000000\n",
      "[227]\teval-merror:0.025705\ttrain-merror:0.000000\n",
      "[228]\teval-merror:0.025697\ttrain-merror:0.000000\n",
      "[229]\teval-merror:0.025585\ttrain-merror:0.000000\n",
      "[230]\teval-merror:0.025602\ttrain-merror:0.000000\n",
      "[231]\teval-merror:0.025602\ttrain-merror:0.000000\n",
      "[232]\teval-merror:0.025568\ttrain-merror:0.000000\n",
      "[233]\teval-merror:0.025619\ttrain-merror:0.000000\n",
      "[234]\teval-merror:0.025593\ttrain-merror:0.000000\n",
      "[235]\teval-merror:0.025576\ttrain-merror:0.000000\n",
      "[236]\teval-merror:0.025516\ttrain-merror:0.000000\n",
      "[237]\teval-merror:0.025602\ttrain-merror:0.000000\n",
      "[238]\teval-merror:0.025611\ttrain-merror:0.000000\n",
      "[239]\teval-merror:0.025619\ttrain-merror:0.000000\n",
      "[240]\teval-merror:0.025568\ttrain-merror:0.000000\n",
      "[241]\teval-merror:0.025542\ttrain-merror:0.000000\n",
      "[242]\teval-merror:0.025576\ttrain-merror:0.000000\n",
      "[243]\teval-merror:0.025611\ttrain-merror:0.000000\n",
      "[244]\teval-merror:0.025585\ttrain-merror:0.000000\n",
      "[245]\teval-merror:0.025542\ttrain-merror:0.000000\n",
      "[246]\teval-merror:0.025533\ttrain-merror:0.000000\n",
      "[247]\teval-merror:0.025516\ttrain-merror:0.000000\n",
      "[248]\teval-merror:0.025576\ttrain-merror:0.000000\n",
      "[249]\teval-merror:0.025516\ttrain-merror:0.000000\n",
      "[250]\teval-merror:0.025507\ttrain-merror:0.000000\n",
      "[251]\teval-merror:0.025481\ttrain-merror:0.000000\n",
      "[252]\teval-merror:0.025542\ttrain-merror:0.000000\n",
      "[253]\teval-merror:0.025533\ttrain-merror:0.000000\n",
      "[254]\teval-merror:0.025533\ttrain-merror:0.000000\n",
      "[255]\teval-merror:0.025550\ttrain-merror:0.000000\n",
      "[256]\teval-merror:0.025550\ttrain-merror:0.000000\n",
      "[257]\teval-merror:0.025525\ttrain-merror:0.000000\n",
      "[258]\teval-merror:0.025533\ttrain-merror:0.000000\n",
      "[259]\teval-merror:0.025490\ttrain-merror:0.000000\n",
      "[260]\teval-merror:0.025525\ttrain-merror:0.000000\n",
      "[261]\teval-merror:0.025473\ttrain-merror:0.000000\n",
      "[262]\teval-merror:0.025568\ttrain-merror:0.000000\n",
      "[263]\teval-merror:0.025533\ttrain-merror:0.000000\n",
      "[264]\teval-merror:0.025490\ttrain-merror:0.000000\n",
      "[265]\teval-merror:0.025533\ttrain-merror:0.000000\n",
      "[266]\teval-merror:0.025507\ttrain-merror:0.000000\n",
      "[267]\teval-merror:0.025499\ttrain-merror:0.000000\n",
      "[268]\teval-merror:0.025533\ttrain-merror:0.000000\n",
      "[269]\teval-merror:0.025473\ttrain-merror:0.000000\n",
      "[270]\teval-merror:0.025499\ttrain-merror:0.000000\n",
      "[271]\teval-merror:0.025490\ttrain-merror:0.000000\n",
      "[272]\teval-merror:0.025490\ttrain-merror:0.000000\n",
      "[273]\teval-merror:0.025507\ttrain-merror:0.000000\n",
      "[274]\teval-merror:0.025481\ttrain-merror:0.000000\n",
      "[275]\teval-merror:0.025516\ttrain-merror:0.000000\n",
      "[276]\teval-merror:0.025499\ttrain-merror:0.000000\n",
      "[277]\teval-merror:0.025481\ttrain-merror:0.000000\n",
      "[278]\teval-merror:0.025525\ttrain-merror:0.000000\n",
      "[279]\teval-merror:0.025542\ttrain-merror:0.000000\n",
      "[280]\teval-merror:0.025559\ttrain-merror:0.000000\n",
      "[281]\teval-merror:0.025456\ttrain-merror:0.000000\n",
      "[282]\teval-merror:0.025456\ttrain-merror:0.000000\n",
      "[283]\teval-merror:0.025456\ttrain-merror:0.000000\n",
      "[284]\teval-merror:0.025516\ttrain-merror:0.000000\n",
      "[285]\teval-merror:0.025490\ttrain-merror:0.000000\n",
      "[286]\teval-merror:0.025481\ttrain-merror:0.000000\n",
      "[287]\teval-merror:0.025464\ttrain-merror:0.000000\n",
      "[288]\teval-merror:0.025447\ttrain-merror:0.000000\n",
      "[289]\teval-merror:0.025464\ttrain-merror:0.000000\n",
      "[290]\teval-merror:0.025447\ttrain-merror:0.000000\n",
      "[291]\teval-merror:0.025456\ttrain-merror:0.000000\n",
      "[292]\teval-merror:0.025395\ttrain-merror:0.000000\n",
      "[293]\teval-merror:0.025361\ttrain-merror:0.000000\n",
      "[294]\teval-merror:0.025387\ttrain-merror:0.000000\n",
      "[295]\teval-merror:0.025387\ttrain-merror:0.000000\n",
      "[296]\teval-merror:0.025395\ttrain-merror:0.000000\n",
      "[297]\teval-merror:0.025395\ttrain-merror:0.000000\n",
      "[298]\teval-merror:0.025378\ttrain-merror:0.000000\n",
      "[299]\teval-merror:0.025327\ttrain-merror:0.000000\n",
      "[300]\teval-merror:0.025327\ttrain-merror:0.000000\n",
      "[301]\teval-merror:0.025292\ttrain-merror:0.000000\n",
      "[302]\teval-merror:0.025309\ttrain-merror:0.000000\n",
      "[303]\teval-merror:0.025266\ttrain-merror:0.000000\n",
      "[304]\teval-merror:0.025292\ttrain-merror:0.000000\n",
      "[305]\teval-merror:0.025301\ttrain-merror:0.000000\n",
      "[306]\teval-merror:0.025275\ttrain-merror:0.000000\n",
      "[307]\teval-merror:0.025223\ttrain-merror:0.000000\n",
      "[308]\teval-merror:0.025215\ttrain-merror:0.000000\n",
      "[309]\teval-merror:0.025249\ttrain-merror:0.000000\n",
      "[310]\teval-merror:0.025249\ttrain-merror:0.000000\n",
      "[311]\teval-merror:0.025223\ttrain-merror:0.000000\n",
      "[312]\teval-merror:0.025258\ttrain-merror:0.000000\n",
      "[313]\teval-merror:0.025232\ttrain-merror:0.000000\n",
      "[314]\teval-merror:0.025258\ttrain-merror:0.000000\n",
      "[315]\teval-merror:0.025266\ttrain-merror:0.000000\n",
      "[316]\teval-merror:0.025232\ttrain-merror:0.000000\n",
      "[317]\teval-merror:0.025275\ttrain-merror:0.000000\n",
      "[318]\teval-merror:0.025249\ttrain-merror:0.000000\n",
      "[319]\teval-merror:0.025223\ttrain-merror:0.000000\n",
      "[320]\teval-merror:0.025258\ttrain-merror:0.000000\n",
      "[321]\teval-merror:0.025266\ttrain-merror:0.000000\n",
      "[322]\teval-merror:0.025249\ttrain-merror:0.000000\n",
      "[323]\teval-merror:0.025249\ttrain-merror:0.000000\n",
      "[324]\teval-merror:0.025318\ttrain-merror:0.000000\n",
      "[325]\teval-merror:0.025344\ttrain-merror:0.000000\n",
      "[326]\teval-merror:0.025241\ttrain-merror:0.000000\n",
      "[327]\teval-merror:0.025232\ttrain-merror:0.000000\n",
      "[328]\teval-merror:0.025223\ttrain-merror:0.000000\n",
      "[329]\teval-merror:0.025223\ttrain-merror:0.000000\n",
      "[330]\teval-merror:0.025241\ttrain-merror:0.000000\n",
      "[331]\teval-merror:0.025223\ttrain-merror:0.000000\n",
      "[332]\teval-merror:0.025249\ttrain-merror:0.000000\n",
      "[333]\teval-merror:0.025189\ttrain-merror:0.000000\n",
      "[334]\teval-merror:0.025206\ttrain-merror:0.000000\n",
      "[335]\teval-merror:0.025241\ttrain-merror:0.000000\n",
      "[336]\teval-merror:0.025266\ttrain-merror:0.000000\n",
      "[337]\teval-merror:0.025249\ttrain-merror:0.000000\n",
      "[338]\teval-merror:0.025232\ttrain-merror:0.000000\n",
      "[339]\teval-merror:0.025241\ttrain-merror:0.000000\n",
      "[340]\teval-merror:0.025206\ttrain-merror:0.000000\n",
      "[341]\teval-merror:0.025232\ttrain-merror:0.000000\n",
      "[342]\teval-merror:0.025232\ttrain-merror:0.000000\n",
      "[343]\teval-merror:0.025249\ttrain-merror:0.000000\n",
      "[344]\teval-merror:0.025241\ttrain-merror:0.000000\n",
      "[345]\teval-merror:0.025223\ttrain-merror:0.000000\n",
      "[346]\teval-merror:0.025215\ttrain-merror:0.000000\n",
      "[347]\teval-merror:0.025223\ttrain-merror:0.000000\n",
      "[348]\teval-merror:0.025258\ttrain-merror:0.000000\n",
      "[349]\teval-merror:0.025249\ttrain-merror:0.000000\n",
      "[350]\teval-merror:0.025232\ttrain-merror:0.000000\n",
      "[351]\teval-merror:0.025223\ttrain-merror:0.000000\n",
      "[352]\teval-merror:0.025241\ttrain-merror:0.000000\n",
      "[353]\teval-merror:0.025241\ttrain-merror:0.000000\n",
      "[354]\teval-merror:0.025258\ttrain-merror:0.000000\n",
      "[355]\teval-merror:0.025266\ttrain-merror:0.000000\n",
      "[356]\teval-merror:0.025275\ttrain-merror:0.000000\n",
      "[357]\teval-merror:0.025318\ttrain-merror:0.000000\n",
      "[358]\teval-merror:0.025284\ttrain-merror:0.000000\n",
      "[359]\teval-merror:0.025249\ttrain-merror:0.000000\n",
      "[360]\teval-merror:0.025275\ttrain-merror:0.000000\n",
      "[361]\teval-merror:0.025292\ttrain-merror:0.000000\n",
      "[362]\teval-merror:0.025318\ttrain-merror:0.000000\n",
      "[363]\teval-merror:0.025292\ttrain-merror:0.000000\n",
      "[364]\teval-merror:0.025275\ttrain-merror:0.000000\n",
      "[365]\teval-merror:0.025292\ttrain-merror:0.000000\n",
      "[366]\teval-merror:0.025292\ttrain-merror:0.000000\n",
      "[367]\teval-merror:0.025284\ttrain-merror:0.000000\n",
      "[368]\teval-merror:0.025249\ttrain-merror:0.000000\n",
      "[369]\teval-merror:0.025223\ttrain-merror:0.000000\n",
      "[370]\teval-merror:0.025232\ttrain-merror:0.000000\n",
      "[371]\teval-merror:0.025241\ttrain-merror:0.000000\n",
      "[372]\teval-merror:0.025232\ttrain-merror:0.000000\n",
      "[373]\teval-merror:0.025249\ttrain-merror:0.000000\n",
      "[374]\teval-merror:0.025223\ttrain-merror:0.000000\n",
      "[375]\teval-merror:0.025206\ttrain-merror:0.000000\n",
      "[376]\teval-merror:0.025189\ttrain-merror:0.000000\n",
      "[377]\teval-merror:0.025154\ttrain-merror:0.000000\n",
      "[378]\teval-merror:0.025189\ttrain-merror:0.000000\n",
      "[379]\teval-merror:0.025223\ttrain-merror:0.000000\n",
      "[380]\teval-merror:0.025198\ttrain-merror:0.000000\n",
      "[381]\teval-merror:0.025180\ttrain-merror:0.000000\n",
      "[382]\teval-merror:0.025198\ttrain-merror:0.000000\n",
      "[383]\teval-merror:0.025198\ttrain-merror:0.000000\n",
      "[384]\teval-merror:0.025189\ttrain-merror:0.000000\n",
      "[385]\teval-merror:0.025215\ttrain-merror:0.000000\n",
      "[386]\teval-merror:0.025206\ttrain-merror:0.000000\n",
      "[387]\teval-merror:0.025232\ttrain-merror:0.000000\n",
      "[388]\teval-merror:0.025232\ttrain-merror:0.000000\n",
      "[389]\teval-merror:0.025223\ttrain-merror:0.000000\n",
      "[390]\teval-merror:0.025258\ttrain-merror:0.000000\n",
      "[391]\teval-merror:0.025284\ttrain-merror:0.000000\n",
      "[392]\teval-merror:0.025266\ttrain-merror:0.000000\n",
      "[393]\teval-merror:0.025215\ttrain-merror:0.000000\n",
      "[394]\teval-merror:0.025215\ttrain-merror:0.000000\n",
      "[395]\teval-merror:0.025223\ttrain-merror:0.000000\n",
      "[396]\teval-merror:0.025232\ttrain-merror:0.000000\n",
      "[397]\teval-merror:0.025206\ttrain-merror:0.000000\n",
      "[398]\teval-merror:0.025206\ttrain-merror:0.000000\n",
      "[399]\teval-merror:0.025180\ttrain-merror:0.000000\n",
      "[400]\teval-merror:0.025215\ttrain-merror:0.000000\n",
      "[401]\teval-merror:0.025232\ttrain-merror:0.000000\n",
      "[402]\teval-merror:0.025223\ttrain-merror:0.000000\n",
      "[403]\teval-merror:0.025232\ttrain-merror:0.000000\n",
      "[404]\teval-merror:0.025275\ttrain-merror:0.000000\n",
      "[405]\teval-merror:0.025249\ttrain-merror:0.000000\n",
      "[406]\teval-merror:0.025223\ttrain-merror:0.000000\n",
      "[407]\teval-merror:0.025189\ttrain-merror:0.000000\n",
      "[408]\teval-merror:0.025206\ttrain-merror:0.000000\n",
      "[409]\teval-merror:0.025215\ttrain-merror:0.000000\n",
      "[410]\teval-merror:0.025232\ttrain-merror:0.000000\n",
      "[411]\teval-merror:0.025215\ttrain-merror:0.000000\n",
      "[412]\teval-merror:0.025215\ttrain-merror:0.000000\n",
      "[413]\teval-merror:0.025198\ttrain-merror:0.000000\n",
      "[414]\teval-merror:0.025198\ttrain-merror:0.000000\n",
      "[415]\teval-merror:0.025232\ttrain-merror:0.000000\n",
      "[416]\teval-merror:0.025198\ttrain-merror:0.000000\n",
      "[417]\teval-merror:0.025223\ttrain-merror:0.000000\n",
      "[418]\teval-merror:0.025223\ttrain-merror:0.000000\n",
      "[419]\teval-merror:0.025223\ttrain-merror:0.000000\n",
      "[420]\teval-merror:0.025241\ttrain-merror:0.000000\n",
      "[421]\teval-merror:0.025206\ttrain-merror:0.000000\n",
      "[422]\teval-merror:0.025223\ttrain-merror:0.000000\n",
      "[423]\teval-merror:0.025223\ttrain-merror:0.000000\n",
      "[424]\teval-merror:0.025232\ttrain-merror:0.000000\n",
      "[425]\teval-merror:0.025198\ttrain-merror:0.000000\n",
      "[426]\teval-merror:0.025206\ttrain-merror:0.000000\n",
      "[427]\teval-merror:0.025232\ttrain-merror:0.000000\n",
      "[428]\teval-merror:0.025249\ttrain-merror:0.000000\n",
      "[429]\teval-merror:0.025223\ttrain-merror:0.000000\n",
      "[430]\teval-merror:0.025232\ttrain-merror:0.000000\n",
      "[431]\teval-merror:0.025232\ttrain-merror:0.000000\n",
      "[432]\teval-merror:0.025266\ttrain-merror:0.000000\n",
      "[433]\teval-merror:0.025258\ttrain-merror:0.000000\n",
      "[434]\teval-merror:0.025258\ttrain-merror:0.000000\n",
      "[435]\teval-merror:0.025258\ttrain-merror:0.000000\n",
      "[436]\teval-merror:0.025232\ttrain-merror:0.000000\n",
      "[437]\teval-merror:0.025232\ttrain-merror:0.000000\n",
      "[438]\teval-merror:0.025215\ttrain-merror:0.000000\n",
      "[439]\teval-merror:0.025266\ttrain-merror:0.000000\n",
      "[440]\teval-merror:0.025241\ttrain-merror:0.000000\n",
      "[441]\teval-merror:0.025189\ttrain-merror:0.000000\n",
      "[442]\teval-merror:0.025180\ttrain-merror:0.000000\n",
      "[443]\teval-merror:0.025154\ttrain-merror:0.000000\n",
      "[444]\teval-merror:0.025172\ttrain-merror:0.000000\n",
      "[445]\teval-merror:0.025189\ttrain-merror:0.000000\n",
      "[446]\teval-merror:0.025163\ttrain-merror:0.000000\n",
      "[447]\teval-merror:0.025172\ttrain-merror:0.000000\n",
      "[448]\teval-merror:0.025198\ttrain-merror:0.000000\n",
      "[449]\teval-merror:0.025258\ttrain-merror:0.000000\n",
      "[450]\teval-merror:0.025215\ttrain-merror:0.000000\n",
      "[451]\teval-merror:0.025154\ttrain-merror:0.000000\n",
      "[452]\teval-merror:0.025146\ttrain-merror:0.000000\n",
      "[453]\teval-merror:0.025172\ttrain-merror:0.000000\n",
      "[454]\teval-merror:0.025198\ttrain-merror:0.000000\n",
      "[455]\teval-merror:0.025137\ttrain-merror:0.000000\n",
      "[456]\teval-merror:0.025146\ttrain-merror:0.000000\n",
      "[457]\teval-merror:0.025154\ttrain-merror:0.000000\n",
      "[458]\teval-merror:0.025180\ttrain-merror:0.000000\n",
      "[459]\teval-merror:0.025146\ttrain-merror:0.000000\n",
      "[460]\teval-merror:0.025180\ttrain-merror:0.000000\n",
      "[461]\teval-merror:0.025154\ttrain-merror:0.000000\n",
      "[462]\teval-merror:0.025154\ttrain-merror:0.000000\n",
      "[463]\teval-merror:0.025163\ttrain-merror:0.000000\n",
      "[464]\teval-merror:0.025163\ttrain-merror:0.000000\n",
      "[465]\teval-merror:0.025172\ttrain-merror:0.000000\n",
      "[466]\teval-merror:0.025189\ttrain-merror:0.000000\n",
      "[467]\teval-merror:0.025215\ttrain-merror:0.000000\n",
      "[468]\teval-merror:0.025215\ttrain-merror:0.000000\n",
      "[469]\teval-merror:0.025215\ttrain-merror:0.000000\n",
      "[470]\teval-merror:0.025223\ttrain-merror:0.000000\n",
      "[471]\teval-merror:0.025206\ttrain-merror:0.000000\n",
      "[472]\teval-merror:0.025206\ttrain-merror:0.000000\n",
      "[473]\teval-merror:0.025258\ttrain-merror:0.000000\n",
      "[474]\teval-merror:0.025232\ttrain-merror:0.000000\n",
      "[475]\teval-merror:0.025215\ttrain-merror:0.000000\n",
      "[476]\teval-merror:0.025206\ttrain-merror:0.000000\n",
      "[477]\teval-merror:0.025180\ttrain-merror:0.000000\n",
      "[478]\teval-merror:0.025154\ttrain-merror:0.000000\n",
      "[479]\teval-merror:0.025180\ttrain-merror:0.000000\n",
      "[480]\teval-merror:0.025189\ttrain-merror:0.000000\n",
      "[481]\teval-merror:0.025154\ttrain-merror:0.000000\n",
      "[482]\teval-merror:0.025180\ttrain-merror:0.000000\n",
      "[483]\teval-merror:0.025180\ttrain-merror:0.000000\n",
      "[484]\teval-merror:0.025198\ttrain-merror:0.000000\n",
      "[485]\teval-merror:0.025206\ttrain-merror:0.000000\n",
      "[486]\teval-merror:0.025154\ttrain-merror:0.000000\n",
      "[487]\teval-merror:0.025146\ttrain-merror:0.000000\n",
      "[488]\teval-merror:0.025172\ttrain-merror:0.000000\n",
      "[489]\teval-merror:0.025180\ttrain-merror:0.000000\n",
      "[490]\teval-merror:0.025180\ttrain-merror:0.000000\n",
      "[491]\teval-merror:0.025154\ttrain-merror:0.000000\n",
      "[492]\teval-merror:0.025154\ttrain-merror:0.000000\n",
      "[493]\teval-merror:0.025129\ttrain-merror:0.000000\n",
      "[494]\teval-merror:0.025129\ttrain-merror:0.000000\n",
      "[495]\teval-merror:0.025111\ttrain-merror:0.000000\n",
      "[496]\teval-merror:0.025086\ttrain-merror:0.000000\n",
      "[497]\teval-merror:0.025094\ttrain-merror:0.000000\n",
      "[498]\teval-merror:0.025103\ttrain-merror:0.000000\n",
      "[499]\teval-merror:0.025094\ttrain-merror:0.000000\n",
      "[500]\teval-merror:0.025043\ttrain-merror:0.000000\n"
     ]
    },
    {
     "data": {
      "text/plain": [
       "Booster(Ptr{Void} @0x00007f8b18fdab10)"
      ]
     },
     "execution_count": 79,
     "metadata": {},
     "output_type": "execute_result"
    }
   ],
   "source": [
    "num_round = 500\n",
    "bst = xgboost(dtrain, num_round, eta=0.1, max_depth=20, watchlist=watchlist, num_class=7, objective=\"multi:softmax\")"
   ]
  },
  {
   "cell_type": "code",
   "execution_count": 80,
   "metadata": {
    "collapsed": false
   },
   "outputs": [],
   "source": [
    "labels = get_info(dtest, \"label\")\n",
    "preds = predict(bst, dtest);"
   ]
  },
  {
   "cell_type": "code",
   "execution_count": 81,
   "metadata": {
    "collapsed": false
   },
   "outputs": [
    {
     "data": {
      "text/plain": [
       "7x7 Array{Int64,2}:\n",
       " 41346   1042     0    0    17     2    70\n",
       "   753  55479    79    0    96    42    12\n",
       "     0     71  6891   27     9    92     0\n",
       "     0      0    52  503     0    21     0\n",
       "    13    179    21    0  1700     5     0\n",
       "     1     49   114   16     4  3361     0\n",
       "   101     22     0    0     0     0  4012"
      ]
     },
     "metadata": {},
     "output_type": "display_data"
    },
    {
     "data": {
      "text/plain": [
       "Classes:  [0,1,2,3,4,5,6]\n",
       "Matrix:   \n",
       "Accuracy: 0.9749574017658904\n",
       "Kappa:    0.9598229725429582"
      ]
     },
     "execution_count": 81,
     "metadata": {},
     "output_type": "execute_result"
    }
   ],
   "source": [
    "cm = confusion_matrix(int(labels),int(preds))"
   ]
  },
  {
   "cell_type": "code",
   "execution_count": 76,
   "metadata": {
    "collapsed": true
   },
   "outputs": [],
   "source": [
    "save(bst,\"test.model\")"
   ]
  },
  {
   "cell_type": "code",
   "execution_count": 78,
   "metadata": {
    "collapsed": false
   },
   "outputs": [],
   "source": [
    "dump_model (bst,\"test.raw.txt\")"
   ]
  },
  {
   "cell_type": "markdown",
   "metadata": {},
   "source": [
    "## Accuracy\n",
    "After 500 rounds of boosting we get a slightly better 2.50 error compared with benchmark's 2.6\n",
    "\n",
    "## Prediction Time"
   ]
  },
  {
   "cell_type": "code",
   "execution_count": 93,
   "metadata": {
    "collapsed": false
   },
   "outputs": [
    {
     "name": "stdout",
     "output_type": "stream",
     "text": [
      "elapsed time: 18.251000367 seconds (206804664 bytes allocated, 0.66% gc time)\n"
     ]
    },
    {
     "data": {
      "text/plain": [
       "116202-element Array{Float32,1}:\n",
       " 1.0\n",
       " 1.0\n",
       " 0.0\n",
       " 0.0\n",
       " 1.0\n",
       " 1.0\n",
       " 1.0\n",
       " 6.0\n",
       " 1.0\n",
       " 2.0\n",
       " 0.0\n",
       " 1.0\n",
       " 1.0\n",
       " ⋮  \n",
       " 1.0\n",
       " 0.0\n",
       " 1.0\n",
       " 5.0\n",
       " 0.0\n",
       " 1.0\n",
       " 1.0\n",
       " 0.0\n",
       " 1.0\n",
       " 0.0\n",
       " 1.0\n",
       " 4.0"
      ]
     },
     "execution_count": 93,
     "metadata": {},
     "output_type": "execute_result"
    }
   ],
   "source": [
    "@time predict(bst, array(test[1:end-1]))"
   ]
  },
  {
   "cell_type": "code",
   "execution_count": 85,
   "metadata": {
    "collapsed": false
   },
   "outputs": [
    {
     "name": "stdout",
     "output_type": "stream",
     "text": [
      "elapsed time: 0.022366966 seconds (305464 bytes allocated)\n"
     ]
    },
    {
     "data": {
      "text/plain": [
       "1-element Array{Float32,1}:\n",
       " 1.0"
      ]
     },
     "execution_count": 85,
     "metadata": {},
     "output_type": "execute_result"
    }
   ],
   "source": [
    "@time predict(bst, array(test[1;1:end-1]))"
   ]
  },
  {
   "cell_type": "code",
   "execution_count": null,
   "metadata": {
    "collapsed": true
   },
   "outputs": [],
   "source": []
  }
 ],
 "metadata": {
  "kernelspec": {
   "display_name": "Julia 0.3.6",
   "language": "julia",
   "name": "julia-0.3"
  },
  "language_info": {
   "name": "julia",
   "version": "0.3.6"
  }
 },
 "nbformat": 4,
 "nbformat_minor": 0
}
